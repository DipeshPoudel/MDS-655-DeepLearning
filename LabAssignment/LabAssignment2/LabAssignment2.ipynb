{
 "cells": [
  {
   "cell_type": "markdown",
   "id": "5dc5ac4a",
   "metadata": {},
   "source": [
    "# Lab Assignment 2"
   ]
  },
  {
   "cell_type": "markdown",
   "id": "7b459a92",
   "metadata": {},
   "source": [
    "## Problem 1\n",
    "1. Implement Backpropagation algorithm to train an ANN of configuration 2x2x1 to achieve XOR function."
   ]
  },
  {
   "cell_type": "code",
   "execution_count": 1,
   "id": "856dfe28",
   "metadata": {},
   "outputs": [],
   "source": [
    "import numpy as np\n",
    "from  sklearn.metrics import confusion_matrix,accuracy_score,classification_report"
   ]
  },
  {
   "cell_type": "markdown",
   "id": "89aee97f",
   "metadata": {},
   "source": [
    "### Using Sigmoid Activation Function\n",
    "\n",
    "$$f(x)=\\frac{1}{1 + e^{-x}}$$"
   ]
  },
  {
   "cell_type": "code",
   "execution_count": 2,
   "id": "025528fa",
   "metadata": {},
   "outputs": [],
   "source": [
    "def sigmoid(x):\n",
    "    return 1/(1+np.exp(-x))"
   ]
  },
  {
   "cell_type": "code",
   "execution_count": 3,
   "id": "022a8b0d",
   "metadata": {},
   "outputs": [],
   "source": [
    "def sigmoid_derivative(x):\n",
    "    return x*(1-x)"
   ]
  },
  {
   "cell_type": "code",
   "execution_count": 4,
   "id": "5d4304e1",
   "metadata": {},
   "outputs": [],
   "source": [
    "class NueuralNetwork:\n",
    "    def __init__(self,learning_rate=0.1):\n",
    "        self.input_layer_size = 2\n",
    "        self.hidden_layer_size = 2\n",
    "        self.output_layer_size = 1\n",
    "        self.learning_rate = learning_rate\n",
    "        self.W1 = np.random.uniform(low=-1, high=1, size=(self.input_layer_size, self.hidden_layer_size))\n",
    "        self.W2 = np.random.uniform(low=-1, high=1, size=(self.hidden_layer_size, self.output_layer_size))\n",
    "        self.b1 = np.zeros((1, self.hidden_layer_size))\n",
    "        self.b2 = np.zeros((1, self.output_layer_size))\n",
    "    def forward_pass(self,X):\n",
    "        self.z2 = np.dot(X, self.W1)+self.b1\n",
    "        self.a2 = sigmoid(self.z2)\n",
    "        self.z3 = np.dot(self.a2, self.W2)+self.b2\n",
    "        y_hat = sigmoid(self.z3)\n",
    "        return y_hat\n",
    "    def backward(self, X, y, y_hat):\n",
    "        delta3 = (y - y_hat) * sigmoid_derivative(y_hat)\n",
    "        dW2 = np.dot(self.a2.T, delta3)\n",
    "        db2 = np.sum(delta3, axis=0, keepdims=True)\n",
    "        delta2 = np.dot(delta3, self.W2.T) * sigmoid_derivative(self.a2)\n",
    "        dW1 = np.dot(X.T, delta2)\n",
    "        db1 = np.sum(delta2, axis=0)\n",
    "        self.W1 += self.learning_rate * dW1\n",
    "        self.W2 += self.learning_rate * dW2\n",
    "        self.b1 += self.learning_rate * db1\n",
    "        self.b2 += self.learning_rate * db2\n",
    "\n",
    "    def train(self, X, y, epochs):\n",
    "        for i in range(epochs):\n",
    "            y_hat = self.forward_pass(X)\n",
    "            self.backward(X, y, y_hat)\n",
    "\n",
    "        return self.forward_pass(X)"
   ]
  },
  {
   "cell_type": "code",
   "execution_count": 5,
   "id": "998dbe20",
   "metadata": {},
   "outputs": [],
   "source": [
    "X = np.array([[0, 0], [0, 1], [1, 0], [1, 1]])\n",
    "y = np.array([[0], [1], [1], [0]])"
   ]
  },
  {
   "cell_type": "code",
   "execution_count": 6,
   "id": "f047aa1c",
   "metadata": {},
   "outputs": [],
   "source": [
    "nn = NueuralNetwork()"
   ]
  },
  {
   "cell_type": "code",
   "execution_count": 7,
   "id": "ffb92550",
   "metadata": {},
   "outputs": [],
   "source": [
    "epoch=10000"
   ]
  },
  {
   "cell_type": "code",
   "execution_count": 8,
   "id": "a5e54c38",
   "metadata": {},
   "outputs": [],
   "source": [
    "y_pred = nn.train(X,y,epochs=epoch)"
   ]
  },
  {
   "cell_type": "code",
   "execution_count": 9,
   "id": "4389f564",
   "metadata": {},
   "outputs": [
    {
     "data": {
      "text/plain": [
       "array([[0.05479661],\n",
       "       [0.66243245],\n",
       "       [0.66243464],\n",
       "       [0.66861741]])"
      ]
     },
     "execution_count": 9,
     "metadata": {},
     "output_type": "execute_result"
    }
   ],
   "source": [
    "y_pred"
   ]
  },
  {
   "cell_type": "code",
   "execution_count": 10,
   "id": "c70b75ef",
   "metadata": {},
   "outputs": [
    {
     "name": "stdout",
     "output_type": "stream",
     "text": [
      "Predicted output:\n",
      "[[0.]\n",
      " [1.]\n",
      " [1.]\n",
      " [1.]]\n"
     ]
    }
   ],
   "source": [
    "threshold = 0.5\n",
    "y_pred[y_pred >= threshold] = 1\n",
    "y_pred[y_pred < threshold] = 0\n",
    "\n",
    "print(\"Predicted output:\")\n",
    "print(y_pred)"
   ]
  },
  {
   "cell_type": "code",
   "execution_count": 11,
   "id": "b108a39e",
   "metadata": {},
   "outputs": [
    {
     "name": "stdout",
     "output_type": "stream",
     "text": [
      "The Accuracy Score is 0.75\n"
     ]
    }
   ],
   "source": [
    "print(f\"The Accuracy Score is {accuracy_score(y, y_pred)}\")"
   ]
  },
  {
   "cell_type": "code",
   "execution_count": 12,
   "id": "fe374a7f",
   "metadata": {},
   "outputs": [
    {
     "name": "stdout",
     "output_type": "stream",
     "text": [
      "              precision    recall  f1-score   support\n",
      "\n",
      "           0       1.00      0.50      0.67         2\n",
      "           1       0.67      1.00      0.80         2\n",
      "\n",
      "    accuracy                           0.75         4\n",
      "   macro avg       0.83      0.75      0.73         4\n",
      "weighted avg       0.83      0.75      0.73         4\n",
      "\n"
     ]
    }
   ],
   "source": [
    "print(classification_report(y, y_pred))"
   ]
  },
  {
   "cell_type": "markdown",
   "id": "4207018c",
   "metadata": {},
   "source": [
    "## Problem 2\n",
    "2. Implement Backpropagation algorithm to train an ANN of configuration 3x2x2x1 to achieve majority function with 3-bit data. Output of the network must be 1 when there are two or more 1’s in the data."
   ]
  },
  {
   "cell_type": "code",
   "execution_count": 13,
   "id": "fc338147",
   "metadata": {},
   "outputs": [],
   "source": [
    "import numpy as np"
   ]
  },
  {
   "cell_type": "code",
   "execution_count": 14,
   "id": "3a9016e9",
   "metadata": {},
   "outputs": [],
   "source": [
    "def sigmoid(x):\n",
    "    return 1/(1+np.exp(-x))"
   ]
  },
  {
   "cell_type": "code",
   "execution_count": 15,
   "id": "0a3f7efd",
   "metadata": {},
   "outputs": [],
   "source": [
    "def sigmoid_derivative(x):\n",
    "    return x*(1-x)"
   ]
  },
  {
   "cell_type": "code",
   "execution_count": 16,
   "id": "0176e546",
   "metadata": {},
   "outputs": [],
   "source": [
    "# Define the majority function\n",
    "def majority_function(x):\n",
    "    if np.sum(x) >= 2:\n",
    "        return 1\n",
    "    else:\n",
    "        return -1"
   ]
  },
  {
   "cell_type": "code",
   "execution_count": 17,
   "id": "8d9126fc",
   "metadata": {},
   "outputs": [],
   "source": [
    "class NueuralNetwork:\n",
    "    def __init__(self,learning_rate=0.1):\n",
    "        self.input_layer_size = 3\n",
    "        self.hidden_layer_1_size = 2\n",
    "        self.hidden_layer_2_size = 2\n",
    "        self.output_layer_size = 1\n",
    "        self.learning_rate = learning_rate\n",
    "        self.W1 = np.random.uniform(low=-1, high=1, size=(self.input_layer_size, self.hidden_layer_1_size))\n",
    "        self.W2 = np.random.uniform(low=-1, high=1, size=(self.hidden_layer_1_size, self.hidden_layer_2_size))\n",
    "        self.W3 = np.random.uniform(low=-1, high=1, size=(self.hidden_layer_2_size, self.output_layer_size))\n",
    "        self.b1 = np.zeros((1, self.hidden_layer_1_size))\n",
    "        self.b2 = np.zeros((1, self.hidden_layer_2_size))\n",
    "        self.b3 = np.zeros((1, self.output_layer_size))\n",
    "    def forward_pass(self,X):\n",
    "        self.z1 = np.dot(X, self.W1)+self.b1\n",
    "        self.a1 = sigmoid(self.z1)\n",
    "        self.z2 = np.dot(self.a1, self.W2)+self.b2\n",
    "        self.a2 = sigmoid(self.z2)\n",
    "        self.z3 = np.dot(self.a2,self.W3)+self.b3\n",
    "        y_hat = sigmoid(self.z3)\n",
    "        return y_hat\n",
    "    def backward(self, X, y, y_hat):\n",
    "        delta3 = (y - y_hat) * sigmoid_derivative(y_hat)\n",
    "        delta2 = np.dot(delta3, self.W3.T) * sigmoid_derivative(self.a2)\n",
    "        delta1 = np.dot(delta2, self.W2.T) * sigmoid_derivative(self.a1)\n",
    "        \n",
    "        dW3 = np.dot(self.a2.T, delta3)\n",
    "        db3 = np.sum(delta3, axis=0, keepdims=True)\n",
    "        dW2 = np.dot(self.a1.T, delta2)\n",
    "        db2 = np.sum(delta3, axis=0, keepdims=True)\n",
    "        dW1 = np.dot(X.T, delta1)\n",
    "        db1 = np.sum(delta2, axis=0)\n",
    "        \n",
    "        self.W3 += self.learning_rate * dW3\n",
    "        self.W2 += self.learning_rate * dW2\n",
    "        self.W1 += self.learning_rate * dW1\n",
    "        self.b3 += self.learning_rate * db3\n",
    "        self.b2 += self.learning_rate * db2\n",
    "        self.b1 += self.learning_rate * db1\n",
    "    def train(self, X, y, epochs):\n",
    "        for i in range(epochs):\n",
    "            y_hat = self.forward_pass(X)\n",
    "            self.backward(X, y, y_hat)\n",
    "\n",
    "        return self.forward_pass(X)"
   ]
  },
  {
   "cell_type": "code",
   "execution_count": 18,
   "id": "3440910b",
   "metadata": {},
   "outputs": [],
   "source": [
    "X = np.array([[1, -1, -1], [1, -1, 1], [1, 1, -1], [1, 1, 1]])\n",
    "y = np.array([[-1], [1], [1], [1]])"
   ]
  },
  {
   "cell_type": "code",
   "execution_count": 19,
   "id": "87f1ff4d",
   "metadata": {},
   "outputs": [],
   "source": [
    "nn = NueuralNetwork()"
   ]
  },
  {
   "cell_type": "code",
   "execution_count": 20,
   "id": "6039557a",
   "metadata": {},
   "outputs": [],
   "source": [
    "epoch=10000"
   ]
  },
  {
   "cell_type": "code",
   "execution_count": 21,
   "id": "ec8ac2fb",
   "metadata": {},
   "outputs": [],
   "source": [
    "y_pred = nn.train(X,y,epochs=epoch)"
   ]
  },
  {
   "cell_type": "code",
   "execution_count": 22,
   "id": "b2bd9626",
   "metadata": {},
   "outputs": [
    {
     "data": {
      "text/plain": [
       "array([[0.00099895],\n",
       "       [0.98014806],\n",
       "       [0.97904858],\n",
       "       [0.98914787]])"
      ]
     },
     "execution_count": 22,
     "metadata": {},
     "output_type": "execute_result"
    }
   ],
   "source": [
    "y_pred"
   ]
  },
  {
   "cell_type": "code",
   "execution_count": 23,
   "id": "f5896e89",
   "metadata": {},
   "outputs": [
    {
     "name": "stdout",
     "output_type": "stream",
     "text": [
      "Predicted output:\n",
      "[[-1.]\n",
      " [ 1.]\n",
      " [ 1.]\n",
      " [ 1.]]\n"
     ]
    }
   ],
   "source": [
    "threshold = 0.5\n",
    "y_pred[y_pred >= threshold] = 1\n",
    "y_pred[y_pred < threshold] = -1\n",
    "\n",
    "print(\"Predicted output:\")\n",
    "print(y_pred)"
   ]
  },
  {
   "cell_type": "code",
   "execution_count": 24,
   "id": "6fe13f95",
   "metadata": {},
   "outputs": [
    {
     "name": "stdout",
     "output_type": "stream",
     "text": [
      "The Accuracy Score is 1.0\n"
     ]
    }
   ],
   "source": [
    "print(f\"The Accuracy Score is {accuracy_score(y, y_pred)}\")"
   ]
  },
  {
   "cell_type": "code",
   "execution_count": 25,
   "id": "683bc4cd",
   "metadata": {},
   "outputs": [
    {
     "name": "stdout",
     "output_type": "stream",
     "text": [
      "              precision    recall  f1-score   support\n",
      "\n",
      "          -1       1.00      1.00      1.00         1\n",
      "           1       1.00      1.00      1.00         3\n",
      "\n",
      "    accuracy                           1.00         4\n",
      "   macro avg       1.00      1.00      1.00         4\n",
      "weighted avg       1.00      1.00      1.00         4\n",
      "\n"
     ]
    }
   ],
   "source": [
    "print(classification_report(y, y_pred))"
   ]
  }
 ],
 "metadata": {
  "kernelspec": {
   "display_name": "Python 3 (ipykernel)",
   "language": "python",
   "name": "python3"
  },
  "language_info": {
   "codemirror_mode": {
    "name": "ipython",
    "version": 3
   },
   "file_extension": ".py",
   "mimetype": "text/x-python",
   "name": "python",
   "nbconvert_exporter": "python",
   "pygments_lexer": "ipython3",
   "version": "3.8.10"
  }
 },
 "nbformat": 4,
 "nbformat_minor": 5
}
