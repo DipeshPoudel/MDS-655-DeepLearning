{
 "cells": [
  {
   "cell_type": "markdown",
   "id": "0ca066d9",
   "metadata": {},
   "source": [
    "# Lab Assignment 2"
   ]
  },
  {
   "cell_type": "markdown",
   "id": "1629b3c2",
   "metadata": {},
   "source": [
    "## Breast Cancer Prediction\n",
    "**1.** Predict Breast Cancer using Feed forward neural network of configuration Nx128x64x32x16x1 and evaluated performance of momemntum, Adagrad, RMSprop, and Adam optimizers in terms of accuracy and F1-score."
   ]
  },
  {
   "cell_type": "code",
   "execution_count": 4,
   "id": "12d82ed0",
   "metadata": {},
   "outputs": [],
   "source": [
    "# TO DO\n",
    "#Implement Code"
   ]
  },
  {
   "cell_type": "markdown",
   "id": "c22fc9ee",
   "metadata": {},
   "source": [
    "## News Category Classification\n",
    "**2.** Predict class label to predict news category using Feed forward neural network of configuration Nx256x128x64x32x16xo and evaluatd performance of momemntum, Adagrad, RMSprop, and Adam optimizers in terms of accuracy and F1-score."
   ]
  },
  {
   "cell_type": "code",
   "execution_count": 2,
   "id": "5078bb4e",
   "metadata": {},
   "outputs": [],
   "source": [
    "# TO DO\n",
    " # Implement Code"
   ]
  }
 ],
 "metadata": {
  "kernelspec": {
   "display_name": "Python 3 (ipykernel)",
   "language": "python",
   "name": "python3"
  },
  "language_info": {
   "codemirror_mode": {
    "name": "ipython",
    "version": 3
   },
   "file_extension": ".py",
   "mimetype": "text/x-python",
   "name": "python",
   "nbconvert_exporter": "python",
   "pygments_lexer": "ipython3",
   "version": "3.8.10"
  }
 },
 "nbformat": 4,
 "nbformat_minor": 5
}
