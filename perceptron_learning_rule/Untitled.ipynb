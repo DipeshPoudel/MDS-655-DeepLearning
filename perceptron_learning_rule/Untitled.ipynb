{
 "cells": [
  {
   "cell_type": "code",
   "execution_count": 1,
   "id": "dd5879e3",
   "metadata": {},
   "outputs": [],
   "source": [
    "import pandas as pd\n",
    "import numpy as np"
   ]
  },
  {
   "cell_type": "code",
   "execution_count": 2,
   "id": "444f0a91",
   "metadata": {},
   "outputs": [],
   "source": [
    "height = [5.9,5.8,5.2,5.4,6.1,5.5,6,5.3]\n",
    "weight = [75,86,50,55,85,62,82,52]\n",
    "gender = ['Male','Male','Female','Female','Male','Female']"
   ]
  },
  {
   "cell_type": "code",
   "execution_count": 3,
   "id": "3a5d32e3",
   "metadata": {},
   "outputs": [],
   "source": [
    "training_df = pd.DataFrame({'height':height[:-2],'weight':weight[:-2],'gender':gender})"
   ]
  },
  {
   "cell_type": "code",
   "execution_count": 4,
   "id": "549e5d88",
   "metadata": {},
   "outputs": [
    {
     "data": {
      "text/html": [
       "<div>\n",
       "<style scoped>\n",
       "    .dataframe tbody tr th:only-of-type {\n",
       "        vertical-align: middle;\n",
       "    }\n",
       "\n",
       "    .dataframe tbody tr th {\n",
       "        vertical-align: top;\n",
       "    }\n",
       "\n",
       "    .dataframe thead th {\n",
       "        text-align: right;\n",
       "    }\n",
       "</style>\n",
       "<table border=\"1\" class=\"dataframe\">\n",
       "  <thead>\n",
       "    <tr style=\"text-align: right;\">\n",
       "      <th></th>\n",
       "      <th>height</th>\n",
       "      <th>weight</th>\n",
       "      <th>gender</th>\n",
       "    </tr>\n",
       "  </thead>\n",
       "  <tbody>\n",
       "    <tr>\n",
       "      <th>0</th>\n",
       "      <td>5.9</td>\n",
       "      <td>75</td>\n",
       "      <td>Male</td>\n",
       "    </tr>\n",
       "    <tr>\n",
       "      <th>1</th>\n",
       "      <td>5.8</td>\n",
       "      <td>86</td>\n",
       "      <td>Male</td>\n",
       "    </tr>\n",
       "    <tr>\n",
       "      <th>2</th>\n",
       "      <td>5.2</td>\n",
       "      <td>50</td>\n",
       "      <td>Female</td>\n",
       "    </tr>\n",
       "    <tr>\n",
       "      <th>3</th>\n",
       "      <td>5.4</td>\n",
       "      <td>55</td>\n",
       "      <td>Female</td>\n",
       "    </tr>\n",
       "    <tr>\n",
       "      <th>4</th>\n",
       "      <td>6.1</td>\n",
       "      <td>85</td>\n",
       "      <td>Male</td>\n",
       "    </tr>\n",
       "  </tbody>\n",
       "</table>\n",
       "</div>"
      ],
      "text/plain": [
       "   height  weight  gender\n",
       "0     5.9      75    Male\n",
       "1     5.8      86    Male\n",
       "2     5.2      50  Female\n",
       "3     5.4      55  Female\n",
       "4     6.1      85    Male"
      ]
     },
     "execution_count": 4,
     "metadata": {},
     "output_type": "execute_result"
    }
   ],
   "source": [
    "training_df.head()"
   ]
  },
  {
   "cell_type": "code",
   "execution_count": 5,
   "id": "4b798667",
   "metadata": {},
   "outputs": [],
   "source": [
    "test_df = pd.DataFrame({'height':height[-2:],'weight':weight[-2:]})"
   ]
  },
  {
   "cell_type": "code",
   "execution_count": 6,
   "id": "c6eee196",
   "metadata": {},
   "outputs": [
    {
     "data": {
      "text/html": [
       "<div>\n",
       "<style scoped>\n",
       "    .dataframe tbody tr th:only-of-type {\n",
       "        vertical-align: middle;\n",
       "    }\n",
       "\n",
       "    .dataframe tbody tr th {\n",
       "        vertical-align: top;\n",
       "    }\n",
       "\n",
       "    .dataframe thead th {\n",
       "        text-align: right;\n",
       "    }\n",
       "</style>\n",
       "<table border=\"1\" class=\"dataframe\">\n",
       "  <thead>\n",
       "    <tr style=\"text-align: right;\">\n",
       "      <th></th>\n",
       "      <th>height</th>\n",
       "      <th>weight</th>\n",
       "    </tr>\n",
       "  </thead>\n",
       "  <tbody>\n",
       "    <tr>\n",
       "      <th>0</th>\n",
       "      <td>6.0</td>\n",
       "      <td>82</td>\n",
       "    </tr>\n",
       "    <tr>\n",
       "      <th>1</th>\n",
       "      <td>5.3</td>\n",
       "      <td>52</td>\n",
       "    </tr>\n",
       "  </tbody>\n",
       "</table>\n",
       "</div>"
      ],
      "text/plain": [
       "   height  weight\n",
       "0     6.0      82\n",
       "1     5.3      52"
      ]
     },
     "execution_count": 6,
     "metadata": {},
     "output_type": "execute_result"
    }
   ],
   "source": [
    "test_df.head()"
   ]
  },
  {
   "cell_type": "code",
   "execution_count": 7,
   "id": "a3c6fd96",
   "metadata": {},
   "outputs": [],
   "source": [
    "def normalize(df):\n",
    "    df['height'] = (df['height']-df['height'].mean())/df['height'].std()\n",
    "    df['weight'] = (df['weight']-df['weight'].mean())/df['weight'].std()\n",
    "    return df"
   ]
  },
  {
   "cell_type": "code",
   "execution_count": 8,
   "id": "2dab0c64",
   "metadata": {},
   "outputs": [],
   "source": [
    "def data_encoder(df):\n",
    "    df['gender'] = df['gender'].str.lower()\n",
    "    df['gender'] = df['gender'].replace({'male':1,'female':-1})\n",
    "    return df"
   ]
  },
  {
   "cell_type": "code",
   "execution_count": 9,
   "id": "01533d25",
   "metadata": {},
   "outputs": [],
   "source": [
    "def training(X,w,b):\n",
    "    # Intalize Bias and Weight at random\n",
    "    z = np.dot(X, w) + b\n",
    "    a = activation_function(z)\n",
    "    return a"
   ]
  },
  {
   "cell_type": "code",
   "execution_count": 10,
   "id": "76c4a8cf",
   "metadata": {},
   "outputs": [],
   "source": [
    "def activation_function(x):\n",
    "    res = []\n",
    "    for item in x:\n",
    "        if item>1:\n",
    "            res.append(1)\n",
    "        elif item==0:\n",
    "            res.append(0)\n",
    "        else:\n",
    "            res.append(-1)\n",
    "    return np.array(res)"
   ]
  },
  {
   "cell_type": "code",
   "execution_count": 11,
   "id": "d34ff877",
   "metadata": {},
   "outputs": [],
   "source": [
    "def model_test(X):\n",
    "    pass"
   ]
  },
  {
   "cell_type": "code",
   "execution_count": 12,
   "id": "a3c822b7",
   "metadata": {},
   "outputs": [],
   "source": [
    "X = training_df.drop(columns=['gender'],inplace=False,axis=1)\n",
    "y = training_df[['gender']]"
   ]
  },
  {
   "cell_type": "code",
   "execution_count": 13,
   "id": "aacceaf3",
   "metadata": {},
   "outputs": [
    {
     "name": "stderr",
     "output_type": "stream",
     "text": [
      "c:\\users\\dipesh.poudel\\appdata\\local\\programs\\python\\python37\\lib\\site-packages\\ipykernel_launcher.py:2: SettingWithCopyWarning: \n",
      "A value is trying to be set on a copy of a slice from a DataFrame.\n",
      "Try using .loc[row_indexer,col_indexer] = value instead\n",
      "\n",
      "See the caveats in the documentation: https://pandas.pydata.org/pandas-docs/stable/user_guide/indexing.html#returning-a-view-versus-a-copy\n",
      "  \n",
      "c:\\users\\dipesh.poudel\\appdata\\local\\programs\\python\\python37\\lib\\site-packages\\ipykernel_launcher.py:3: SettingWithCopyWarning: \n",
      "A value is trying to be set on a copy of a slice from a DataFrame.\n",
      "Try using .loc[row_indexer,col_indexer] = value instead\n",
      "\n",
      "See the caveats in the documentation: https://pandas.pydata.org/pandas-docs/stable/user_guide/indexing.html#returning-a-view-versus-a-copy\n",
      "  This is separate from the ipykernel package so we can avoid doing imports until\n"
     ]
    }
   ],
   "source": [
    "X = normalize(X)\n",
    "y = data_encoder(y)"
   ]
  },
  {
   "cell_type": "code",
   "execution_count": 14,
   "id": "648d8be1",
   "metadata": {},
   "outputs": [],
   "source": [
    "# Intalize the Weight and Bias at random\n",
    "np.random.seed(0)\n",
    "w = np.random.randn(2)\n",
    "b = np.random.randn()"
   ]
  },
  {
   "cell_type": "code",
   "execution_count": 15,
   "id": "c148641c",
   "metadata": {},
   "outputs": [],
   "source": [
    "X = X.values\n",
    "y = y.values"
   ]
  },
  {
   "cell_type": "code",
   "execution_count": 16,
   "id": "8bab3739",
   "metadata": {},
   "outputs": [
    {
     "data": {
      "text/plain": [
       "array([[ 0.73720978,  0.40025854],\n",
       "       [ 0.44232587,  1.11423324],\n",
       "       [-1.32697761, -1.22241122],\n",
       "       [-0.73720978, -0.89787727],\n",
       "       [ 1.32697761,  1.04932645],\n",
       "       [-0.44232587, -0.44352973]])"
      ]
     },
     "execution_count": 16,
     "metadata": {},
     "output_type": "execute_result"
    }
   ],
   "source": [
    "X"
   ]
  },
  {
   "cell_type": "code",
   "execution_count": 17,
   "id": "3e1bcdb9",
   "metadata": {},
   "outputs": [],
   "source": [
    "y=np.array(y[0])"
   ]
  },
  {
   "cell_type": "code",
   "execution_count": 18,
   "id": "462d45ea",
   "metadata": {},
   "outputs": [
    {
     "data": {
      "text/plain": [
       "array([1], dtype=int64)"
      ]
     },
     "execution_count": 18,
     "metadata": {},
     "output_type": "execute_result"
    }
   ],
   "source": [
    "y"
   ]
  },
  {
   "cell_type": "code",
   "execution_count": 25,
   "id": "e0a3131c",
   "metadata": {},
   "outputs": [
    {
     "name": "stdout",
     "output_type": "stream",
     "text": [
      "Epoch 1/100 - Loss: 0.0000\n",
      "Epoch 2/100 - Loss: 0.0000\n",
      "Epoch 3/100 - Loss: 0.0000\n",
      "Epoch 4/100 - Loss: 0.0000\n",
      "Epoch 5/100 - Loss: 0.0000\n",
      "Epoch 6/100 - Loss: 0.0000\n",
      "Epoch 7/100 - Loss: 0.0000\n",
      "Epoch 8/100 - Loss: 0.0000\n",
      "Epoch 9/100 - Loss: 0.0000\n",
      "Epoch 10/100 - Loss: 0.0000\n",
      "Epoch 11/100 - Loss: 0.0000\n",
      "Epoch 12/100 - Loss: 0.0000\n",
      "Epoch 13/100 - Loss: 0.0000\n",
      "Epoch 14/100 - Loss: 0.0000\n",
      "Epoch 15/100 - Loss: 0.0000\n",
      "Epoch 16/100 - Loss: 0.0000\n",
      "Epoch 17/100 - Loss: 0.0000\n",
      "Epoch 18/100 - Loss: 0.0000\n",
      "Epoch 19/100 - Loss: 0.0000\n",
      "Epoch 20/100 - Loss: 0.0000\n",
      "Epoch 21/100 - Loss: 0.0000\n",
      "Epoch 22/100 - Loss: 0.0000\n",
      "Epoch 23/100 - Loss: 0.0000\n",
      "Epoch 24/100 - Loss: 0.0000\n",
      "Epoch 25/100 - Loss: 0.0000\n",
      "Epoch 26/100 - Loss: 0.0000\n",
      "Epoch 27/100 - Loss: 0.0000\n",
      "Epoch 28/100 - Loss: 0.0000\n",
      "Epoch 29/100 - Loss: 0.0000\n",
      "Epoch 30/100 - Loss: 0.0000\n",
      "Epoch 31/100 - Loss: 0.0000\n",
      "Epoch 32/100 - Loss: 0.0000\n",
      "Epoch 33/100 - Loss: 0.0000\n",
      "Epoch 34/100 - Loss: 0.0000\n",
      "Epoch 35/100 - Loss: 0.0000\n",
      "Epoch 36/100 - Loss: 0.0000\n",
      "Epoch 37/100 - Loss: 0.0000\n",
      "Epoch 38/100 - Loss: 0.0000\n",
      "Epoch 39/100 - Loss: 0.0000\n",
      "Epoch 40/100 - Loss: 0.0000\n",
      "Epoch 41/100 - Loss: 0.0000\n",
      "Epoch 42/100 - Loss: 0.0000\n",
      "Epoch 43/100 - Loss: 0.0000\n",
      "Epoch 44/100 - Loss: 0.0000\n",
      "Epoch 45/100 - Loss: 0.0000\n",
      "Epoch 46/100 - Loss: 0.0000\n",
      "Epoch 47/100 - Loss: 0.0000\n",
      "Epoch 48/100 - Loss: 0.0000\n",
      "Epoch 49/100 - Loss: 0.0000\n",
      "Epoch 50/100 - Loss: 0.0000\n",
      "Epoch 51/100 - Loss: 0.0000\n",
      "Epoch 52/100 - Loss: 0.0000\n",
      "Epoch 53/100 - Loss: 0.0000\n",
      "Epoch 54/100 - Loss: 0.0000\n",
      "Epoch 55/100 - Loss: 0.0000\n",
      "Epoch 56/100 - Loss: 0.0000\n",
      "Epoch 57/100 - Loss: 0.0000\n",
      "Epoch 58/100 - Loss: 0.0000\n",
      "Epoch 59/100 - Loss: 0.0000\n",
      "Epoch 60/100 - Loss: 0.0000\n",
      "Epoch 61/100 - Loss: 0.0000\n",
      "Epoch 62/100 - Loss: 0.0000\n",
      "Epoch 63/100 - Loss: 0.0000\n",
      "Epoch 64/100 - Loss: 0.0000\n",
      "Epoch 65/100 - Loss: 0.0000\n",
      "Epoch 66/100 - Loss: 0.0000\n",
      "Epoch 67/100 - Loss: 0.0000\n",
      "Epoch 68/100 - Loss: 0.0000\n",
      "Epoch 69/100 - Loss: 0.0000\n",
      "Epoch 70/100 - Loss: 0.0000\n",
      "Epoch 71/100 - Loss: 0.0000\n",
      "Epoch 72/100 - Loss: 0.0000\n",
      "Epoch 73/100 - Loss: 0.0000\n",
      "Epoch 74/100 - Loss: 0.0000\n",
      "Epoch 75/100 - Loss: 0.0000\n",
      "Epoch 76/100 - Loss: 0.0000\n",
      "Epoch 77/100 - Loss: 0.0000\n",
      "Epoch 78/100 - Loss: 0.0000\n",
      "Epoch 79/100 - Loss: 0.0000\n",
      "Epoch 80/100 - Loss: 0.0000\n",
      "Epoch 81/100 - Loss: 0.0000\n",
      "Epoch 82/100 - Loss: 0.0000\n",
      "Epoch 83/100 - Loss: 0.0000\n",
      "Epoch 84/100 - Loss: 0.0000\n",
      "Epoch 85/100 - Loss: 0.0000\n",
      "Epoch 86/100 - Loss: 0.0000\n",
      "Epoch 87/100 - Loss: 0.0000\n",
      "Epoch 88/100 - Loss: 0.0000\n",
      "Epoch 89/100 - Loss: 0.0000\n",
      "Epoch 90/100 - Loss: 0.0000\n",
      "Epoch 91/100 - Loss: 0.0000\n",
      "Epoch 92/100 - Loss: 0.0000\n",
      "Epoch 93/100 - Loss: 0.0000\n",
      "Epoch 94/100 - Loss: 0.0000\n",
      "Epoch 95/100 - Loss: 0.0000\n",
      "Epoch 96/100 - Loss: 0.0000\n",
      "Epoch 97/100 - Loss: 0.0000\n",
      "Epoch 98/100 - Loss: 0.0000\n",
      "Epoch 99/100 - Loss: 0.0000\n",
      "Epoch 100/100 - Loss: 0.0000\n"
     ]
    }
   ],
   "source": [
    "lr = 0.1\n",
    "epochs = 100\n",
    "for epoch in range(epochs):\n",
    "    a = training(X, w, b)\n",
    "    error = y - a\n",
    "    w += lr * np.dot(X.T, error)\n",
    "    b += lr * error.sum()\n",
    "    loss = np.mean(np.square(error))\n",
    "    print(f\"Epoch {epoch+1}/{epochs} - Loss: {loss:.4f}\")"
   ]
  },
  {
   "cell_type": "code",
   "execution_count": 26,
   "id": "21842536",
   "metadata": {},
   "outputs": [],
   "source": [
    "test_df = normalize(test_df)"
   ]
  },
  {
   "cell_type": "code",
   "execution_count": 27,
   "id": "9922a7cf",
   "metadata": {},
   "outputs": [
    {
     "data": {
      "text/plain": [
       "array([1, 1])"
      ]
     },
     "execution_count": 27,
     "metadata": {},
     "output_type": "execute_result"
    }
   ],
   "source": [
    "prediction = training(test_df, w, b)\n",
    "prediction"
   ]
  },
  {
   "cell_type": "code",
   "execution_count": 28,
   "id": "082a28bc",
   "metadata": {},
   "outputs": [
    {
     "name": "stdout",
     "output_type": "stream",
     "text": [
      "[ 0.84991222 -0.53666413]\n"
     ]
    }
   ],
   "source": [
    "print(w)"
   ]
  },
  {
   "cell_type": "code",
   "execution_count": 29,
   "id": "ddacbd82",
   "metadata": {},
   "outputs": [
    {
     "name": "stdout",
     "output_type": "stream",
     "text": [
      "1.9787379841057393\n"
     ]
    }
   ],
   "source": [
    "print(b)"
   ]
  },
  {
   "cell_type": "code",
   "execution_count": 30,
   "id": "664e55c0",
   "metadata": {},
   "outputs": [
    {
     "name": "stdout",
     "output_type": "stream",
     "text": [
      "The Gender is Male\n",
      "The Gender is Male\n"
     ]
    }
   ],
   "source": [
    "for item in prediction:\n",
    "    if item==1:\n",
    "        print(\"The Gender is Male\")\n",
    "    else:\n",
    "        print(\"The Gender is Female\")"
   ]
  }
 ],
 "metadata": {
  "kernelspec": {
   "display_name": "Python 3 (ipykernel)",
   "language": "python",
   "name": "python3"
  },
  "language_info": {
   "codemirror_mode": {
    "name": "ipython",
    "version": 3
   },
   "file_extension": ".py",
   "mimetype": "text/x-python",
   "name": "python",
   "nbconvert_exporter": "python",
   "pygments_lexer": "ipython3",
   "version": "3.7.0"
  }
 },
 "nbformat": 4,
 "nbformat_minor": 5
}
